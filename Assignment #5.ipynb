{
 "cells": [
  {
   "cell_type": "code",
   "execution_count": 40,
   "metadata": {},
   "outputs": [
    {
     "name": "stdout",
     "output_type": "stream",
     "text": [
      "Factorial of entered entity is:  5040\n"
     ]
    }
   ],
   "source": [
    "# Python program to find the factorial of a number provided by the user.\n",
    "\n",
    "inp =int()\n",
    "def factorial (inp):\n",
    "    num_1= 1\n",
    "\n",
    "    if inp<0:\n",
    "        print(\"Factorial of negative entities don't exist\")\n",
    "    elif inp==0:\n",
    "        print (\"Factorial of entered entity is: 1\" )\n",
    "    else:\n",
    "        for i in range(1,inp+1):\n",
    "            num_1= num_1*i\n",
    "        print(\"Factorial of entered entity is: \", num_1)\n",
    "    \n",
    "factorial(7)"
   ]
  },
  {
   "cell_type": "code",
   "execution_count": 20,
   "metadata": {},
   "outputs": [
    {
     "name": "stdout",
     "output_type": "stream",
     "text": [
      "Enter the String: Anu\n",
      "Number of Upper case letters are: 1\n",
      "Number of Lower case letters are: 2\n"
     ]
    }
   ],
   "source": [
    "inp=str(input(\"Enter the String: \"))\n",
    "def case_find(inp):\n",
    "    Upper_case=0\n",
    "    Lower_case=0\n",
    "    for c in inp:\n",
    "        if (c.isupper()):\n",
    "            Upper_case+=1\n",
    "        elif (c.islower()):\n",
    "            Lower_case+=1\n",
    "    print(\"Number of Upper case letters are:\", Upper_case)\n",
    "    print(\"Number of Lower case letters are:\", Lower_case)\n",
    "\n",
    "case_find(inp)\n"
   ]
  },
  {
   "cell_type": "code",
   "execution_count": 55,
   "metadata": {
    "scrolled": true
   },
   "outputs": [
    {
     "name": "stdout",
     "output_type": "stream",
     "text": [
      "2\n",
      "4\n",
      "6\n"
     ]
    }
   ],
   "source": [
    "# Q.3 Write a Python function to print the even numbers from a given list.\n",
    "\n",
    "def even_checker(list1):\n",
    "    for i in list1:\n",
    "        if i%2 == 0:\n",
    "            print(i)\n",
    "list1= [1, 2, 3, 4, 5, 6]  \n",
    "even_checker(list1)"
   ]
  },
  {
   "cell_type": "code",
   "execution_count": 18,
   "metadata": {},
   "outputs": [
    {
     "name": "stdout",
     "output_type": "stream",
     "text": [
      "Enter any string: Madam\n",
      "madam\n",
      "This is a palindrom\n"
     ]
    }
   ],
   "source": [
    "#Question:4 Write a Python function that checks whether a passed string is palindrome or not. Note: A palindrome\n",
    "#is a word, phrase, or sequence that reads the same backward as forward, e.g., madam\n",
    "\n",
    "inp_str=input(\"Enter any string: \")\n",
    "def palin_check(inp_str):\n",
    "    case_conv=inp_str.lower()\n",
    "    print(case_conv)\n",
    "    rev_str=reversed(case_conv)\n",
    "    if list(case_conv) == list(rev_str):\n",
    "        print(\"This is a palindrom\")\n",
    "    else:\n",
    "        print(\"This is not a palindrom\")\n",
    "palin_check(inp_str)"
   ]
  },
  {
   "cell_type": "code",
   "execution_count": 32,
   "metadata": {
    "scrolled": true
   },
   "outputs": [
    {
     "name": "stdout",
     "output_type": "stream",
     "text": [
      "Enter a number to check whether it is prime or not: 3\n",
      "3 is a prime number.\n"
     ]
    }
   ],
   "source": [
    "#Write a Python function that takes a number as a parameter and check the number is prime or not. \n",
    "\n",
    "def prime_check(num):  \n",
    "    if num > 1:\n",
    "        for i in range(2, num):     \n",
    "            if (num % i) == 0: \n",
    "                print(num, \"is not a prime number.\")\n",
    "                break\n",
    "            else: \n",
    "                print(num, \"is a prime number.\")\n",
    "                break\n",
    "    else: \n",
    "        print(num, \"is not a prime number.\")\n",
    "\n",
    "num = int(input(\"Enter a number to check whether it is prime or not: \"))\n",
    "prime_check(num)"
   ]
  },
  {
   "cell_type": "markdown",
   "metadata": {},
   "source": []
  },
  {
   "cell_type": "code",
   "execution_count": 1,
   "metadata": {},
   "outputs": [
    {
     "name": "stdout",
     "output_type": "stream",
     "text": [
      "Washing Power\n",
      "Facewash\n",
      "Toothbrush\n"
     ]
    }
   ],
   "source": [
    "#Suppose a customer is shopping in a market and you need to print all the items which user bought from market.\n",
    "#Write a function which accepts the multiple arguments of user shopping list and print all the items which user\n",
    "#bought from market. (Hint: Arbitrary Argument concept can make this task ease)\n",
    "\n",
    "def market(*para):\n",
    "    for i in para:\n",
    "        print(i)\n",
    "market(\"Washing Power\",\"Facewash\", \"Toothbrush\")"
   ]
  },
  {
   "cell_type": "code",
   "execution_count": null,
   "metadata": {},
   "outputs": [],
   "source": [
    " "
   ]
  },
  {
   "cell_type": "code",
   "execution_count": null,
   "metadata": {},
   "outputs": [],
   "source": []
  }
 ],
 "metadata": {
  "kernelspec": {
   "display_name": "Python 3",
   "language": "python",
   "name": "python3"
  },
  "language_info": {
   "codemirror_mode": {
    "name": "ipython",
    "version": 3
   },
   "file_extension": ".py",
   "mimetype": "text/x-python",
   "name": "python",
   "nbconvert_exporter": "python",
   "pygments_lexer": "ipython3",
   "version": "3.7.4"
  }
 },
 "nbformat": 4,
 "nbformat_minor": 2
}
