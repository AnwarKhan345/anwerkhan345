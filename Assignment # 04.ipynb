{
 "cells": [
  {
   "cell_type": "code",
   "execution_count": 12,
   "metadata": {},
   "outputs": [
    {
     "name": "stdout",
     "output_type": "stream",
     "text": [
      "{'first_name': 'Meer Anwar', 'last_name': 'Khan', 'age': '24', 'city': 'Karachi'}\n",
      "{'first_name': 'Meer Anwar', 'last_name': 'Khan', 'age': '24', 'city': 'Karachi', 'Qualification': 'Higher Academic Level '}\n",
      "{'first_name': 'Meer Anwar', 'last_name': 'Khan', 'age': '24', 'city': 'Karachi'}\n"
     ]
    }
   ],
   "source": [
    "Dict= {\n",
    "        \"first_name\" : \"Meer Anwar\",\n",
    "        \"last_name\"  : \"Khan\",\n",
    "        \"age\"        : \"24\",\n",
    "        \"city\"       : \"Karachi\"\n",
    "    }\n",
    "print (Dict)\n",
    "Dict[\"Qualification\"] = \"Higher Academic Level \"\n",
    "print (Dict)\n",
    "del Dict ['Qualification']\n",
    "print (Dict)\n"
   ]
  },
  {
   "cell_type": "code",
   "execution_count": 9,
   "metadata": {},
   "outputs": [
    {
     "name": "stdout",
     "output_type": "stream",
     "text": [
      "{'Karachi': {'Country': 'Pakistan', 'Population': '50 Million', 'Fact': 'Karachi is known as city of Light'}, 'Gwangju': {'Country': 'South Korea', 'Population': '50 Million', 'Fact': 'Karachi is known as city of Light'}, 'Munich': {'Country': 'Germany\\n', 'Population': '50 Million', 'Fact': 'Karachi is known as city of Light'}}\n"
     ]
    }
   ],
   "source": [
    "cities= {\n",
    "   \n",
    "    \"Karachi\":\n",
    "    {\n",
    "        \"Country\"    : \"Pakistan\",\n",
    "        \"Population\" : \"3 Million\",\n",
    "        \"Fact\"       : \"Karachi contributes to 70% of income tax revenue and 62% of sales tax revenue.\"\n",
    "    },\n",
    "    \"Gwangju\":\n",
    "    {\n",
    "        \"Country\"    : \"South Korea\",\n",
    "        \"Population\" : \"1.5 Million\",\n",
    "        \"Fact\"       : \"It has a vibrant year-round art scene.\"\n",
    "    },\n",
    "    \"Munich\":\n",
    "    {\n",
    "        \"Country\"    : \"Germany\",\n",
    "        \"Population\" : \"1.45 Million\",\n",
    "        \"Fact\"       : \"It harbours the oldest cinema in the world.\"\n",
    "    },\n",
    "}\n",
    "print(cities)"
   ]
  },
  {
   "cell_type": "code",
   "execution_count": 32,
   "metadata": {},
   "outputs": [
    {
     "name": "stdout",
     "output_type": "stream",
     "text": [
      "What is your name? Meer Anwar Khan\n",
      "Meer Anwar Khan\n",
      "What is your age? 15\n",
      "15\n",
      "Ticket is $15\n"
     ]
    }
   ],
   "source": [
    "user_name= input(\"What is your name? \")\n",
    "print (user_name)\n",
    "user_age=int(input(\"What is your age? \"))\n",
    "print(user_age)\n",
    "if user_age<3:\n",
    "        print(\"Ticket is free\")\n",
    "elif user_age<=12:\n",
    "        print (\"Ticket is $10\")\n",
    "else:\n",
    "        print(\"Ticket is $15\")\n",
    "    \n",
    "        "
   ]
  },
  {
   "cell_type": "code",
   "execution_count": 35,
   "metadata": {},
   "outputs": [
    {
     "name": "stdout",
     "output_type": "stream",
     "text": [
      "One of my favorite books is Alice in Wonderful\n"
     ]
    }
   ],
   "source": [
    "def favorite_book(title):\n",
    "    title= \"Alice in Wonderland\"\n",
    "    print(\"One of my favorite books is Alice in Wonderful.\")\n",
    "    \n",
    "favorite_book(\"title\")"
   ]
  },
  {
   "cell_type": "code",
   "execution_count": 66,
   "metadata": {},
   "outputs": [
    {
     "name": "stdout",
     "output_type": "stream",
     "text": [
      "Enter between 1 & 30 to guess the correct number 6\n",
      "Wrong guess. Try Again\n",
      "Hint: Guess is too low\n",
      "Enter between 1 & 30 to guess the correct number 8\n",
      "Wrong guess. Try Again\n",
      "Hint: Guess is too low\n",
      "Enter between 1 & 30 to guess the correct number 29\n",
      "Hint: Guess is too high\n",
      "Bad Luck. Try Next Time\n",
      "Correct Number is 10\n"
     ]
    }
   ],
   "source": [
    "import random\n",
    "ran_num= random.randrange(1,30)\n",
    "flag = False\n",
    "\n",
    "for i in range (1,4):\n",
    "    user_num= int(input(\"Enter between 1 & 30 to guess the correct number \"))\n",
    "    if user_num==ran_num:\n",
    "        print(\"You have guess the correct number\")\n",
    "        Flag= True\n",
    "        break\n",
    "    elif user_num< ran_num:\n",
    "        print(\"Wrong guess. Try Again\")\n",
    "        print(\"Hint: Guess is too low\")\n",
    "    else:\n",
    "        print(\"Hint: Guess is too high\")\n",
    "if flag:\n",
    "    print(\"Congratulation..! You made a correct guess\")\n",
    "else:\n",
    "    print(\"Bad Luck. Try Next Time\")\n",
    "    print(\"Correct Number is\", ran_num)\n",
    "    \n",
    "\n"
   ]
  },
  {
   "cell_type": "code",
   "execution_count": null,
   "metadata": {},
   "outputs": [],
   "source": []
  },
  {
   "cell_type": "code",
   "execution_count": null,
   "metadata": {},
   "outputs": [],
   "source": []
  }
 ],
 "metadata": {
  "kernelspec": {
   "display_name": "Python 3",
   "language": "python",
   "name": "python3"
  },
  "language_info": {
   "codemirror_mode": {
    "name": "ipython",
    "version": 3
   },
   "file_extension": ".py",
   "mimetype": "text/x-python",
   "name": "python",
   "nbconvert_exporter": "python",
   "pygments_lexer": "ipython3",
   "version": "3.7.4"
  }
 },
 "nbformat": 4,
 "nbformat_minor": 2
}
