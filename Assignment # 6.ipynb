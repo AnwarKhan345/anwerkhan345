{
 "cells": [
  {
   "cell_type": "code",
   "execution_count": null,
   "metadata": {},
   "outputs": [],
   "source": [
    "#Question 1:Define Object Oriented Programming Language?\n",
    "\n",
    "Object-oriented Programming, or OOP for short, is a programming paradigm which provides a means of structuring programs so that properties and behaviors are bundled into individual objects.\n",
    "\n",
    "For instance, an object could represent a person with a name property, age, address, etc., with behaviors like walking, talking, breathing, and running. Or an email with properties like recipient list, subject, body, etc., and behaviors like adding attachments and sending.\n",
    "\n",
    "Put another way, object-oriented programming is an approach for modeling concrete, real-world things like cars as well as relations between things like companies and employees, students and teachers, etc. OOP models real-world entities as software objects, which have some data associated with them and can perform certain functions.\n",
    "\n",
    "#Question 2: List down the Benefits of OOP?\n",
    "\n",
    "1. Modularity for easier troubleshooting:\n",
    "    It provides a clear modular structure for programs which makes it good for defining abstract datatypes in which implementation details are hidden\n",
    "2. Reuse of code through inheritance:\n",
    "    Objects can also be reused within an across applications. The reuse of software also lowers the cost of development. \n",
    "    More effort is put into the object-oriented analysis and design, which lowers the overall cost of development.\n",
    "3. Flexibility through polymorphism\n",
    "4. It provides a good framework for code libraries where the supplied software components can be easily adapted and modified by the programmer. \n",
    "   This is particularly useful for developing graphical user interfaces.\n",
    "5. Object-oriented programming is often the most natural and pragmatic approach, once you get the hang of it. OOP languages allows to break down software into bite-sized problems that can be solved as — one object at a time.\n",
    "  \n",
    "#Question 3: Differentiate between function and method?\n",
    "\n",
    "1. Function:\n",
    "    A function is a block of code to carry out a specific task, will contain its own scope and is called by name.\n",
    "    All functions may contain zero(no) arguments or more than one arguments. \n",
    "    On exit, a function can or can not return one or more values.\n",
    "2. Method:\n",
    "    The method is a function that is associated with an object. \n",
    "    In Python, a method is not unique to class instances. Any object type can have methods.\n",
    "\n",
    "#Question 4: Define the following terms:\n",
    "\n",
    "1. Object:\n",
    "    The object is an entity that has state and behavior. It may be any real-world object like the mouse, keyboard, chair, table, pen, etc.\n",
    "    Everything in Python is an object, and almost everything has attributes and methods. \n",
    "    All functions have a built-in attribute __doc__, which returns the doc string defined in the function source code.\n",
    "    \n",
    "2. Class:\n",
    "    The class can be defined as a collection of objects. It is a logical entity that has some specific attributes and methods. \n",
    "    For example: if an employee is a class then it should contain an attribute and method, i.e. an email id, name, age, salary, etc.\n",
    "\n",
    "3. Attribute:\n",
    "     Attributes are the characteristics of the class that help to distinguish it from other classes.\n",
    "        \n",
    "4. Behavior:\n",
    "    Behaviors are the tasks that an object performs.\n",
    "\n",
    "    \n"
   ]
  },
  {
   "cell_type": "code",
   "execution_count": 5,
   "metadata": {},
   "outputs": [
    {
     "name": "stdout",
     "output_type": "stream",
     "text": [
      "Sportage is best sports car.\n",
      "157 is the maximum speed of Sportage.\n",
      "Gasoline is derived from Octave.\n"
     ]
    }
   ],
   "source": [
    "#Question 5:Write a code in python in which create a class named it Car which have 5 attributes such like (model, color and name etc.) and 3\n",
    "            #methods. And create 5 object instance from that class.\n",
    "class Car():\n",
    "\n",
    "    # instance attributes\n",
    "    def __init__(self, Brand, Model, Color, Max_Speed, Fuel_type):\n",
    "        self.Brand = 'Kia'\n",
    "        self.Model = 'Sportage'\n",
    "        self.Color= 'Red'\n",
    "        self.Max_Speed=157\n",
    "        self.Fuel_type= 'Gasoline'\n",
    "        \n",
    "    # instance method\n",
    "    def Sports_Car(self):\n",
    "        return \"{} is best sports car.\".format(self.Model)\n",
    "\n",
    "    def speed(self):\n",
    "        return \"{} is the maximum speed of Sportage.\".format(self.Max_Speed)\n",
    "    \n",
    "    def fuel(self, fuel):\n",
    "        return \"{} is derived from {}\".format(self.Fuel_type, fuel)\n",
    "\n",
    "test= Car(\"test\",10,15,20,25)\n",
    "# call our instance methods\n",
    "print(test.Sports_Car())\n",
    "print(test.speed()) \n",
    "print(test.fuel(\"Octave.\"))\n",
    "\n"
   ]
  },
  {
   "cell_type": "code",
   "execution_count": null,
   "metadata": {},
   "outputs": [],
   "source": []
  }
 ],
 "metadata": {
  "kernelspec": {
   "display_name": "Python 3",
   "language": "python",
   "name": "python3"
  },
  "language_info": {
   "codemirror_mode": {
    "name": "ipython",
    "version": 3
   },
   "file_extension": ".py",
   "mimetype": "text/x-python",
   "name": "python",
   "nbconvert_exporter": "python",
   "pygments_lexer": "ipython3",
   "version": "3.7.4"
  }
 },
 "nbformat": 4,
 "nbformat_minor": 2
}
