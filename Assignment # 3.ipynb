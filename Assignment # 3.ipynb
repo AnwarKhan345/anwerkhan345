{
 "cells": [
  {
   "cell_type": "code",
   "execution_count": 43,
   "metadata": {},
   "outputs": [
    {
     "name": "stdout",
     "output_type": "stream",
     "text": [
      "Enter the first operand= 4\n",
      "Enter the second operand= 5\n",
      "Enter the desired operator= /\n",
      "Answer of your operation is 0.8\n"
     ]
    }
   ],
   "source": [
    "Val1= int(input(\"Enter the first operand= \"))\n",
    "Val2= int(input(\"Enter the second operand= \"))\n",
    "Opr= input(\"Enter the desired operator= \")\n",
    "\n",
    "if Opr == \"+\" :\n",
    "    Val3 = (Val1 + Val2)\n",
    "    print(\"Answer of your operation is\", Val3)\n",
    "\n",
    "elif Opr == \"-\":\n",
    "    Val3 = Val1 - Val2\n",
    "    print(\"Answer of your operation is\", Val3)\n",
    "    \n",
    "elif Opr == \"*\" :\n",
    "    Val3 = Val1 * Val2\n",
    "    print(\"Answer of your operation is\", Val3)\n",
    "    \n",
    "elif Opr == \"/\" :\n",
    "    Val3 = Val1 / Val2\n",
    "    print(\"Answer of your operation is\", Val3)\n",
    "    \n",
    "else:\n",
    "    print(\"Enter the correct operator\")\n",
    "        \n"
   ]
  },
  {
   "cell_type": "code",
   "execution_count": 47,
   "metadata": {},
   "outputs": [
    {
     "name": "stdout",
     "output_type": "stream",
     "text": [
      "['456', '678', '890']\n",
      "['456', '678', '890']\n",
      "['456', '678', '890']\n",
      "['456', '678', '890']\n",
      "['456', '678', '890']\n",
      "['456', '678', '890']\n"
     ]
    }
   ],
   "source": [
    "mylist=['Anwar','456','Sarwar','678','Munawar','890']\n",
    "for item in mylist:\n",
    "    mynewlist =  [a for a in mylist if a.isdigit()]\n",
    "    print(mynewlist)\n"
   ]
  },
  {
   "cell_type": "code",
   "execution_count": 51,
   "metadata": {},
   "outputs": [
    {
     "name": "stdout",
     "output_type": "stream",
     "text": [
      "{'Student_ID': '0001', 'Full Name': 'Anwar Khan', 'Father Name': 'Sarwar Khan', 'Department': 'Biomedical Engineering'}\n"
     ]
    }
   ],
   "source": [
    "Student_Detail = {\"Student_ID\": \"0001\",\n",
    "            \"Full Name\": \"Anwar Khan\",\n",
    "            \"Father Name\": \"Sarwar Khan\"}\n",
    "Student_Detail[\"Department\"] = \"Biomedical Engineering\"\n",
    "print(Student_Detail)"
   ]
  },
  {
   "cell_type": "code",
   "execution_count": 54,
   "metadata": {},
   "outputs": [
    {
     "name": "stdout",
     "output_type": "stream",
     "text": [
      "60\n"
     ]
    }
   ],
   "source": [
    "Dict_Data = {'Val1':10,'Val2':20,'Val3':30}\n",
    "print(sum(Dict_Data.values()))"
   ]
  },
  {
   "cell_type": "code",
   "execution_count": 59,
   "metadata": {},
   "outputs": [
    {
     "name": "stdout",
     "output_type": "stream",
     "text": [
      "[1, 3, 5]\n"
     ]
    }
   ],
   "source": [
    "Data = [ 1, 3, 5, 7, 9, 1, 3, 2, 4, 5, 6, 8]\n",
    "Dup_val = []\n",
    "uniq_val = {}\n",
    "for x in Data:\n",
    "    if x not in uniq_val:\n",
    "        uniq_val[x] = 1\n",
    "    else:\n",
    "        if uniq_val[x] == 1:\n",
    "            Dup_val.append(x)\n",
    "        uniq_val[x] += 1\n",
    "print(Dup_val)"
   ]
  },
  {
   "cell_type": "code",
   "execution_count": 80,
   "metadata": {},
   "outputs": [
    {
     "name": "stdout",
     "output_type": "stream",
     "text": [
      "Enter the key you want to check: 8\n",
      "Not present\n"
     ]
    }
   ],
   "source": [
    "dict = {1: 5, 2: 10, 3: 15, 4: 20, 5: 25, 6: 30}\n",
    "key = int(input(\"Enter the key you want to check: \"))\n",
    "checkKey(dict, key)\n",
    "def checkKey(dict, key):  \n",
    "    if key in dict.keys():\n",
    "        print(\"Present\")  \n",
    "    else: \n",
    "        print(\"Not present\")"
   ]
  },
  {
   "cell_type": "code",
   "execution_count": null,
   "metadata": {},
   "outputs": [],
   "source": []
  },
  {
   "cell_type": "code",
   "execution_count": null,
   "metadata": {},
   "outputs": [],
   "source": []
  }
 ],
 "metadata": {
  "kernelspec": {
   "display_name": "Python 3",
   "language": "python",
   "name": "python3"
  },
  "language_info": {
   "codemirror_mode": {
    "name": "ipython",
    "version": 3
   },
   "file_extension": ".py",
   "mimetype": "text/x-python",
   "name": "python",
   "nbconvert_exporter": "python",
   "pygments_lexer": "ipython3",
   "version": "3.7.4"
  }
 },
 "nbformat": 4,
 "nbformat_minor": 2
}
