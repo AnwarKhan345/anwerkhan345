{
 "cells": [
  {
   "cell_type": "code",
   "execution_count": 42,
   "metadata": {},
   "outputs": [
    {
     "name": "stdout",
     "output_type": "stream",
     "text": [
      "Please Enter the marks obtained in Physic:    67.0\n",
      "Please Enter the marks obtained in Chemistry: 67.0\n",
      "Please Enter the marks obtained in Biology:   56.0\n",
      "Please Enter the marks obtained in English:   78.0\n",
      "Please Enter the marks obtained in Urdu:      67.5\n",
      "Total marks Obtained in all subjects are:  335.5\n",
      "Percentage:  67\n",
      "Grade: C\n"
     ]
    }
   ],
   "source": [
    "# Number Obtained in subjects as Inputs from the user\n",
    "S1= float(input(\"Please Enter the marks obtained in Physic:    \"))\n",
    "S2= float(input(\"Please Enter the marks obtained in Chemistry: \"))\n",
    "S3= float(input(\"Please Enter the marks obtained in Biology:   \"))\n",
    "S4= float(input(\"Please Enter the marks obtained in English:   \"))\n",
    "S5= float(input(\"Please Enter the marks obtained in Urdu:      \"))\n",
    "total_marks_Obtained=T1= (S1 + S2 + S3 + S4 + S5)\n",
    "total_marks=T2=500\n",
    "print(\"Total marks Obtained in all subjects are: \", T1)\n",
    "Percentage=P= int((T1/T2)* 100)\n",
    "print(\"Percentage: \", P)\n",
    "if P>=90:\n",
    "    print(\"Grade: A1\")\n",
    "elif P>=80 and P<90:\n",
    "    print(\"Grade: A\")\n",
    "elif P>=70 and P<80:\n",
    "    print(\"Grade: B\")\n",
    "elif P>=60 and P<70:\n",
    "    print(\"Grade: C\")\n",
    "elif P>=50 and P<60:\n",
    "    print(\"Grade: D\")    \n",
    "else: \n",
    "    print (\"Fail\")\n",
    "\n",
    "\n",
    "\n"
   ]
  },
  {
   "cell_type": "markdown",
   "metadata": {},
   "source": []
  },
  {
   "cell_type": "code",
   "execution_count": 49,
   "metadata": {},
   "outputs": [
    {
     "name": "stdout",
     "output_type": "stream",
     "text": [
      "Enter a number: 7\n",
      "1\n",
      "Given number is Odd\n"
     ]
    }
   ],
   "source": [
    "num_1= int(input('Enter a number: '))\n",
    "trick= num_1 % 2\n",
    "print (trick)\n",
    "if trick<= 0:\n",
    "    print(\"Given number is Even\")  \n",
    "else:\n",
    "    print(\"Given number is Odd\")\n"
   ]
  },
  {
   "cell_type": "code",
   "execution_count": 53,
   "metadata": {},
   "outputs": [
    {
     "name": "stdout",
     "output_type": "stream",
     "text": [
      "4\n"
     ]
    }
   ],
   "source": [
    "List = [\"Apple\", \"Mango\", \"Banana\", \"Kiwi\"]\n",
    "length_List= len(List)\n",
    "print(length_List)"
   ]
  },
  {
   "cell_type": "code",
   "execution_count": 54,
   "metadata": {},
   "outputs": [
    {
     "name": "stdout",
     "output_type": "stream",
     "text": [
      "25\n"
     ]
    }
   ],
   "source": [
    "List= [1, 2,4,5,6,7]\n",
    "Sum_List= sum(List)\n",
    "print(Sum_List)"
   ]
  },
  {
   "cell_type": "code",
   "execution_count": 55,
   "metadata": {},
   "outputs": [
    {
     "name": "stdout",
     "output_type": "stream",
     "text": [
      "7\n"
     ]
    }
   ],
   "source": [
    "List= [1,4,6,0,7]\n",
    "Largest_List= max(List)\n",
    "print(Largest_List)"
   ]
  },
  {
   "cell_type": "code",
   "execution_count": 59,
   "metadata": {},
   "outputs": [
    {
     "name": "stdout",
     "output_type": "stream",
     "text": [
      "1\n",
      "1\n",
      "2\n",
      "3\n"
     ]
    }
   ],
   "source": [
    "List = [1, 1, 2, 3, 5, 8, 13, 21, 34, 55, 89]\n",
    "for i in List:\n",
    "    if i<5:\n",
    "        print(i)"
   ]
  },
  {
   "cell_type": "code",
   "execution_count": null,
   "metadata": {},
   "outputs": [],
   "source": []
  }
 ],
 "metadata": {
  "kernelspec": {
   "display_name": "Python 3",
   "language": "python",
   "name": "python3"
  },
  "language_info": {
   "codemirror_mode": {
    "name": "ipython",
    "version": 3
   },
   "file_extension": ".py",
   "mimetype": "text/x-python",
   "name": "python",
   "nbconvert_exporter": "python",
   "pygments_lexer": "ipython3",
   "version": "3.7.4"
  }
 },
 "nbformat": 4,
 "nbformat_minor": 2
}
